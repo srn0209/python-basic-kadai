{
  "nbformat": 4,
  "nbformat_minor": 0,
  "metadata": {
    "colab": {
      "provenance": []
    },
    "kernelspec": {
      "name": "python3",
      "display_name": "Python 3"
    },
    "language_info": {
      "name": "python"
    }
  },
  "cells": [
    {
      "cell_type": "code",
      "execution_count": 10,
      "metadata": {
        "colab": {
          "base_uri": "https://localhost:8080/"
        },
        "id": "DO4TinqEyX9B",
        "outputId": "a022ac0b-4a01-411b-c4b1-3a5074cf46ff"
      },
      "outputs": [
        {
          "output_type": "stream",
          "name": "stdout",
          "text": [
            "84\n",
            "Bizz\n"
          ]
        }
      ],
      "source": [
        "import random\n",
        "\n",
        "num=random.randint(0,100)\n",
        "print(num)\n",
        "\n",
        "if num%3==0 and num%5==0:\n",
        "  print(\"FizzBizz\")\n",
        "elif num%5==0:\n",
        "  print(\"Fizz\")\n",
        "elif num%3==0:\n",
        "  print(\"Bizz\")\n",
        "else:\n",
        "  print(\"var\")\n"
      ]
    }
  ]
}