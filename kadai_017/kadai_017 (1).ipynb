{
  "nbformat": 4,
  "nbformat_minor": 0,
  "metadata": {
    "colab": {
      "provenance": []
    },
    "kernelspec": {
      "name": "python3",
      "display_name": "Python 3"
    },
    "language_info": {
      "name": "python"
    }
  },
  "cells": [
    {
      "cell_type": "code",
      "execution_count": 10,
      "metadata": {
        "colab": {
          "base_uri": "https://localhost:8080/"
        },
        "id": "SKY0s-ppcW-R",
        "outputId": "ab0f06c7-f13a-4a5c-8175-bfbf78833ba1"
      },
      "outputs": [
        {
          "output_type": "stream",
          "name": "stdout",
          "text": [
            "侍太郎は大人である\n",
            "侍二郎は大人である\n",
            "侍三郎は大人である\n",
            "侍花子は大人でない\n"
          ]
        }
      ],
      "source": [
        "class Human:\n",
        "  def __init__(self,name,age):\n",
        "    self.name = name\n",
        "    self.age = age\n",
        "\n",
        "  def check_adult(self):\n",
        "    if self.age >= 20:\n",
        "      print(f\"{self.name}は大人である\")\n",
        "    else:\n",
        "      print(f\"{self.name}は大人でない\")\n",
        "\n",
        "people = [\n",
        "      Human(\"侍太郎\",25),\n",
        "      Human(\"侍二郎\",23),\n",
        "      Human(\"侍三郎\",20),\n",
        "      Human(\"侍花子\",18)\n",
        "  ]\n",
        "\n",
        "for person in people:\n",
        "    person.check_adult()"
      ]
    }
  ]
}