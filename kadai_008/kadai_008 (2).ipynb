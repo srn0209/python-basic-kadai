{
  "nbformat": 4,
  "nbformat_minor": 0,
  "metadata": {
    "colab": {
      "provenance": []
    },
    "kernelspec": {
      "name": "python3",
      "display_name": "Python 3"
    },
    "language_info": {
      "name": "python"
    }
  },
  "cells": [
    {
      "cell_type": "code",
      "execution_count": 26,
      "metadata": {
        "colab": {
          "base_uri": "https://localhost:8080/"
        },
        "id": "DO4TinqEyX9B",
        "outputId": "fa66d464-9f45-4bd2-c1c8-b5136beaee5b"
      },
      "outputs": [
        {
          "output_type": "stream",
          "name": "stdout",
          "text": [
            "20\n",
            "Buzz\n"
          ]
        }
      ],
      "source": [
        "import random\n",
        "\n",
        "var=random.randint(0,100)\n",
        "print(var)\n",
        "\n",
        "if var%3==0 and var%5==0:\n",
        "  print(\"FizzBuzz\")\n",
        "elif var%5==0:\n",
        "  print(\"Buzz\")\n",
        "elif var%3==0:\n",
        "  print(\"Fizz\")\n",
        "else:\n",
        "  print(var)\n"
      ]
    }
  ]
}