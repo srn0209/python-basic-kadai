{
  "nbformat": 4,
  "nbformat_minor": 0,
  "metadata": {
    "colab": {
      "provenance": []
    },
    "kernelspec": {
      "name": "python3",
      "display_name": "Python 3"
    },
    "language_info": {
      "name": "python"
    }
  },
  "cells": [
    {
      "cell_type": "code",
      "execution_count": 2,
      "metadata": {
        "colab": {
          "base_uri": "https://localhost:8080/"
        },
        "id": "WvdzAYPmTp_O",
        "outputId": "5b3f8657-7b5c-4936-a093-6d9e90f5b88f"
      },
      "outputs": [
        {
          "output_type": "stream",
          "name": "stdout",
          "text": [
            "121.0\n"
          ]
        }
      ],
      "source": [
        "def calculate_total(price,tax_rate):\n",
        "  tax = price * tax_rate/100\n",
        "  return price + tax\n",
        "\n",
        "total = calculate_total(110,10)\n",
        "print(total)"
      ]
    }
  ]
}