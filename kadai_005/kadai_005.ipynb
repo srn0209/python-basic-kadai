{
  "nbformat": 4,
  "nbformat_minor": 0,
  "metadata": {
    "colab": {
      "provenance": []
    },
    "kernelspec": {
      "name": "python3",
      "display_name": "Python 3"
    },
    "language_info": {
      "name": "python"
    }
  },
  "cells": [
    {
      "cell_type": "code",
      "execution_count": 5,
      "metadata": {
        "colab": {
          "base_uri": "https://localhost:8080/"
        },
        "id": "oIaFh2zjf7rv",
        "outputId": "ce97dd21-51ad-4be1-d58a-f80f2cc4d523"
      },
      "outputs": [
        {
          "output_type": "stream",
          "name": "stdout",
          "text": [
            "75.0㎠\n"
          ]
        }
      ],
      "source": [
        "top=10\n",
        "bottom=20\n",
        "height=5\n",
        "area=(top+bottom)*height/2\n",
        "print(f\"{area}㎠\")"
      ]
    }
  ]
}