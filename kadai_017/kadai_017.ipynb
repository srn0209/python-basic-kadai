{
  "nbformat": 4,
  "nbformat_minor": 0,
  "metadata": {
    "colab": {
      "provenance": []
    },
    "kernelspec": {
      "name": "python3",
      "display_name": "Python 3"
    },
    "language_info": {
      "name": "python"
    }
  },
  "cells": [
    {
      "cell_type": "code",
      "execution_count": 7,
      "metadata": {
        "colab": {
          "base_uri": "https://localhost:8080/"
        },
        "id": "SKY0s-ppcW-R",
        "outputId": "f0462d4e-b7a6-4355-ff99-1f69067c379c"
      },
      "outputs": [
        {
          "output_type": "stream",
          "name": "stdout",
          "text": [
            "大人である\n",
            "大人である\n",
            "大人である\n",
            "大人でない\n"
          ]
        }
      ],
      "source": [
        "class Human:\n",
        "  def __init__(self,name,age):\n",
        "    self.name = name\n",
        "    self.age = age\n",
        "\n",
        "  def check_adult(self):\n",
        "    if self.age >= 20:\n",
        "      print(\"大人である\")\n",
        "    else:\n",
        "      print(\"大人でない\")\n",
        "\n",
        "people = [\n",
        "      Human(\"侍太郎\",25),\n",
        "      Human(\"侍二郎\",23),\n",
        "      Human(\"侍三郎\",20),\n",
        "      Human(\"侍花子\",18)\n",
        "  ]\n",
        "\n",
        "for person in people:\n",
        "    person.check_adult()"
      ]
    }
  ]
}