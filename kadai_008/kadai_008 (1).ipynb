{
  "nbformat": 4,
  "nbformat_minor": 0,
  "metadata": {
    "colab": {
      "provenance": []
    },
    "kernelspec": {
      "name": "python3",
      "display_name": "Python 3"
    },
    "language_info": {
      "name": "python"
    }
  },
  "cells": [
    {
      "cell_type": "code",
      "execution_count": 24,
      "metadata": {
        "colab": {
          "base_uri": "https://localhost:8080/"
        },
        "id": "DO4TinqEyX9B",
        "outputId": "8c352b93-3a5f-4d3d-b17e-bbc3a0e82178"
      },
      "outputs": [
        {
          "output_type": "stream",
          "name": "stdout",
          "text": [
            "77\n"
          ]
        }
      ],
      "source": [
        "import random\n",
        "\n",
        "var=random.randint(0,100)\n",
        "print(var)\n",
        "\n",
        "if var%3==0 and var%5==0:\n",
        "  print(\"FizzBuzz\")\n",
        "elif var%5==0:\n",
        "  print(\"Fizz\")\n",
        "elif var%3==0:\n",
        "  print(\"Buzz\")\n"
      ]
    }
  ]
}